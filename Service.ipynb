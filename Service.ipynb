{
 "cells": [
  {
   "cell_type": "markdown",
   "metadata": {},
   "source": [
    "# exercice  \n",
    "\n",
    "Create an API service that receives data about apps launched and compute behavioral stats about users in real-time. "
   ]
  },
  {
   "cell_type": "markdown",
   "metadata": {},
   "source": [
    "result : \n",
    "- app_launched, \n",
    "- most_active_day_last_7_days, \n",
    "- number_of_days_active_last_7, \n",
    "- most_launched_app_last_7_days"
   ]
  },
  {
   "cell_type": "code",
   "execution_count": 1,
   "metadata": {},
   "outputs": [],
   "source": [
    "from flask import Flask\n",
    "from flask import jsonify\n",
    "from flask import request\n",
    "import json\n",
    "import time"
   ]
  },
  {
   "cell_type": "code",
   "execution_count": 2,
   "metadata": {},
   "outputs": [],
   "source": [
    "# GET DATA \n",
    "def get_data(fichier):\n",
    "    with open(fichier, 'r',encoding='utf-8') as file:\n",
    "        contenu = json.load(file)\n",
    "    return contenu "
   ]
  },
  {
   "cell_type": "code",
   "execution_count": 3,
   "metadata": {},
   "outputs": [],
   "source": [
    "def put_data(fichier,data): \n",
    "    with open(fichier, 'w') as file:\n",
    "        json.dump(data, file)"
   ]
  },
  {
   "cell_type": "code",
   "execution_count": null,
   "metadata": {},
   "outputs": [],
   "source": [
    "app_launched = {}\n",
    "active_date = {}\n",
    "def get_output(contenu,element):\n",
    "    # update  app_launched et most_launched_app_last_7_days --------------------------------------------------------------\n",
    "    \n",
    "    # ADD NEW ELEMENT \n",
    "    if ( app_launched == {}) : \n",
    "        a = {}\n",
    "        a['app'] = element['app']\n",
    "        a['number'] = 1 \n",
    "        app_launched[0] = a \n",
    "        \n",
    "    i = 0 \n",
    "    test = False\n",
    "    # ADDING OR UPDATING DICT OF APP_LAUNCHED\n",
    "    for key, value in app_launched.items():\n",
    "        i = i + 1 \n",
    "        if ( value['app'] == element['app']):\n",
    "            value['number'] = int(value['number']) + 1 \n",
    "            test = True    \n",
    "    if ( test == False ) : \n",
    "        a = {}\n",
    "        a['app'] = element['app']\n",
    "        a['number'] = 1 \n",
    "        app_launched[i] = a             \n",
    "    \n",
    "    # GETTING NAME APP AND MAX APP \n",
    "    app_max = 0 \n",
    "    app_name = ''\n",
    "    for key, value in app_launched.items():\n",
    "        if ( int(value['number']) > app_max):\n",
    "            app_max = int(value['number'])\n",
    "            app_name = value['app']\n",
    "    \n",
    "    # update  number_of_days_active_last_7 and most_launched_app_last_7_days ------------------------------------------------\n",
    "\n",
    "    # ADD NEW ELEMENT \n",
    "    if ( active_date == {}) : \n",
    "        a = {}\n",
    "        a['day'] = element['timestamp']\n",
    "        a['number'] = 1 \n",
    "        active_date[0] = a\n",
    "    i = 0 \n",
    "    test = False\n",
    "    \n",
    "    # ADDING OR UPDATING DICT OF APP_LAUNCHED\n",
    "    for key, value in active_date.items():\n",
    "        i = i + 1 \n",
    "        if ( value['day'] == element['timestamp']):\n",
    "            value['number'] = int(value['number']) + 1 \n",
    "            test = True    \n",
    "    if ( test == False ) : \n",
    "        a = {}\n",
    "        a['day'] = element['timestamp']\n",
    "        a['number'] = 1 \n",
    "        active_date[i] = a \n",
    "    \n",
    "    # GETTING NAME APP AND MAX APP \n",
    "    day_max = 0 \n",
    "    day_name = ''\n",
    "    for key, value in active_date.items():\n",
    "        if ( int(value['number']) > day_max):\n",
    "            day_max = int(value['number'])\n",
    "            day_name = value['day']\n",
    "\n",
    "    return str(app_max),str(day_name),str(day_max),str(app_name)"
   ]
  },
  {
   "cell_type": "code",
   "execution_count": null,
   "metadata": {},
   "outputs": [
    {
     "name": "stdout",
     "output_type": "stream",
     "text": [
      " * Serving Flask app \"__main__\" (lazy loading)\n",
      " * Environment: production\n",
      "   WARNING: Do not use the development server in a production environment.\n",
      "   Use a production WSGI server instead.\n",
      " * Debug mode: off\n"
     ]
    },
    {
     "name": "stderr",
     "output_type": "stream",
     "text": [
      " * Running on http://127.0.0.1:5000/ (Press CTRL+C to quit)\n",
      "127.0.0.1 - - [19/Dec/2018 17:52:33] \"POST /v1/app HTTP/1.1\" 200 -\n"
     ]
    },
    {
     "name": "stdout",
     "output_type": "stream",
     "text": [
      " element post  : \n",
      "{'user_id': '019mr8mf4r', 'app': 'Airbnb', 'timestamp': '2018-10-29T00:30:12.984Z'} \n",
      "\n",
      "{'users': {'0': {'user_id': '019mr8mf4r', 'app': 'Airbnb', 'timestamp': '2017-10-29T00:30:12.984Z'}, '1': {'user_id': '019mr8mf4r', 'app': 'Facebook', 'timestamp': '2017-10-29T00:30:12.984Z'}, '2': {'user_id': '019mr8mf4r', 'app': 'Facebook', 'timestamp': '2017-10-29T00:30:12.984Z'}, '3': {'user_id': '019mr8mf4r', 'app': 'Airbnb', 'timestamp': '2018-10-29T00:30:12.984Z'}, '4': {'user_id': '019mr8mf4r', 'app': 'Airbnb', 'timestamp': '2018-10-29T00:30:12.984Z'}, '5': {'user_id': '019mr8mf4r', 'app': 'Airbnb', 'timestamp': '2018-10-29T00:30:12.984Z'}, '6': {'user_id': '019mr8mf4r', 'app': 'Airbnb', 'timestamp': '2018-10-29T00:30:12.984Z'}, '7': {'user_id': '019mr8mf4r', 'app': 'Airbnb', 'timestamp': '2018-10-29T00:30:12.984Z'}, '8': {'user_id': '019mr8mf4r', 'app': 'Airbnb', 'timestamp': '2018-10-29T00:30:12.984Z'}, '9': {'user_id': '019mr8mf4r', 'app': 'Airbnb', 'timestamp': '2018-10-29T00:30:12.984Z'}, '10': {'user_id': '019mr8mf4r', 'app': 'Airbnb', 'timestamp': '2018-10-29T00:30:12.984Z'}, '11': {'user_id': '019mr8mf4r', 'app': 'Airbnb', 'timestamp': '2018-10-29T00:30:12.984Z'}, '12': {'user_id': 'TEST', 'app': 'Facebook', 'timestamp': '2018-10-29T00:30:12.984Z'}, '13': {'user_id': '019mr8mf4r', 'app': 'Airbnb', 'timestamp': '2018-10-29T00:30:12.984Z'}}}\n"
     ]
    },
    {
     "name": "stderr",
     "output_type": "stream",
     "text": [
      "127.0.0.1 - - [19/Dec/2018 17:53:36] \"GET /v1/user?userid=019mr8mf4r HTTP/1.1\" 200 -\n"
     ]
    },
    {
     "name": "stdout",
     "output_type": "stream",
     "text": [
      " OUR INPUT  : -------------------------------------------\n",
      "{'user_id': '019mr8mf4r', 'app': 'Airbnb', 'timestamp': '2017-10-29T00:30:12.984Z'} \n",
      " \n",
      "{'user_id': '019mr8mf4r', 'app': 'Facebook', 'timestamp': '2017-10-29T00:30:12.984Z'} \n",
      " \n",
      "{'user_id': '019mr8mf4r', 'app': 'Facebook', 'timestamp': '2017-10-29T00:30:12.984Z'} \n",
      " \n",
      "{'user_id': '019mr8mf4r', 'app': 'Airbnb', 'timestamp': '2018-10-29T00:30:12.984Z'} \n",
      " \n",
      "{'user_id': '019mr8mf4r', 'app': 'Airbnb', 'timestamp': '2018-10-29T00:30:12.984Z'} \n",
      " \n",
      "{'user_id': '019mr8mf4r', 'app': 'Airbnb', 'timestamp': '2018-10-29T00:30:12.984Z'} \n",
      " \n",
      "{'user_id': '019mr8mf4r', 'app': 'Airbnb', 'timestamp': '2018-10-29T00:30:12.984Z'} \n",
      " \n",
      "{'user_id': '019mr8mf4r', 'app': 'Airbnb', 'timestamp': '2018-10-29T00:30:12.984Z'} \n",
      " \n",
      "{'user_id': '019mr8mf4r', 'app': 'Airbnb', 'timestamp': '2018-10-29T00:30:12.984Z'} \n",
      " \n",
      "{'user_id': '019mr8mf4r', 'app': 'Airbnb', 'timestamp': '2018-10-29T00:30:12.984Z'} \n",
      " \n",
      "{'user_id': '019mr8mf4r', 'app': 'Airbnb', 'timestamp': '2018-10-29T00:30:12.984Z'} \n",
      " \n",
      "{'user_id': '019mr8mf4r', 'app': 'Airbnb', 'timestamp': '2018-10-29T00:30:12.984Z'} \n",
      " \n",
      "{'user_id': 'TEST', 'app': 'Facebook', 'timestamp': '2018-10-29T00:30:12.984Z'} \n",
      " \n",
      "{'user_id': '019mr8mf4r', 'app': 'Airbnb', 'timestamp': '2018-10-29T00:30:12.984Z'} \n",
      " \n",
      "\n",
      " OUR OUTPUT  : -------------------------------------------\n",
      "{'user_id': '019mr8mf4r', 'app_launched': '12', 'most_active_day': '2018-10-29', 'number_of_days_active': '10', 'most_launched_app': 'Airbnb'}\n"
     ]
    }
   ],
   "source": [
    "app = Flask(__name__)\n",
    "\n",
    "@app.route(\"/v1/app\",methods=['POST'])\n",
    "\n",
    "def route_1():\n",
    "    # GETTING JSON DATA \n",
    "    element = request.get_data()\n",
    "    element_json = json.loads(element)\n",
    "    print ( ' element post  : ')\n",
    "    print(element_json , '\\n')\n",
    "    # GETTING DATA FROM JSON FILE  \n",
    "    data = get_data('C:/Users/HP/Desktop/exercice sensego/JSON_Data.txt')\n",
    "    \n",
    "    # UPDATE DATA WITH ELEMENT POSTED : \n",
    "    contenu = data['users']\n",
    "    new_data =data\n",
    "    #GETTING LAST KEY OF ELEMENT \n",
    "    i = 0 \n",
    "    for key, value in contenu.items():\n",
    "        i= int(key)\n",
    "    next = i +1 \n",
    "    # ADDING ELEMENT TO DATA\n",
    "    new_data['users'][str(next)] = element_json\n",
    "    print(new_data)\n",
    "    put_data('C:/Users/HP/Desktop/exercice sensego/JSON_Data.txt',new_data)\n",
    "    return \"done\"\n",
    "\n",
    "@app.route(\"/v1/user\",methods=['GET'])\n",
    "def route2():\n",
    "    \n",
    "    # GETTING DATA FROM JSON FILE  \n",
    "    data = get_data('C:/Users/HP/Desktop/exercice sensego/JSON_Data.txt')\n",
    "    userid = request.args.get(\"userid\")\n",
    "    \n",
    "    new_data = {}\n",
    "    contenu = data['users']\n",
    "    print( ' OUR INPUT  : -------------------------------------------')\n",
    "    for key, value in contenu.items():\n",
    "        print(value, '\\n ')\n",
    "        if ( str(value['user_id']) == str(userid)) : \n",
    "            app_launched,most_active_day_last_7_days,number_of_days_active_last_7,most_launched_app_last_7_days = get_output(contenu,value)\n",
    "    \n",
    "    dict = {}\n",
    "    element = most_active_day_last_7_days.split('T') \n",
    "       \n",
    "    print( )\n",
    "    dict['user_id'] = str(userid)\n",
    "    dict['app_launched'] = str(app_launched)\n",
    "    dict['most_active_day'] = str(element[0])\n",
    "    dict['number_of_days_active'] = str(number_of_days_active_last_7)\n",
    "    dict['most_launched_app'] = str(most_launched_app_last_7_days)\n",
    "    \n",
    "    print( ' OUR OUTPUT  : -------------------------------------------')\n",
    "\n",
    "    print( dict )\n",
    "    return \"done\"\n",
    "\n",
    "if __name__== \"__main__\" :\n",
    "    app.run()\n"
   ]
  },
  {
   "cell_type": "code",
   "execution_count": null,
   "metadata": {},
   "outputs": [],
   "source": []
  }
 ],
 "metadata": {
  "kernelspec": {
   "display_name": "Python 3",
   "language": "python",
   "name": "python3"
  },
  "language_info": {
   "codemirror_mode": {
    "name": "ipython",
    "version": 3
   },
   "file_extension": ".py",
   "mimetype": "text/x-python",
   "name": "python",
   "nbconvert_exporter": "python",
   "pygments_lexer": "ipython3",
   "version": "3.7.0"
  }
 },
 "nbformat": 4,
 "nbformat_minor": 2
}
